{
 "cells": [
  {
   "cell_type": "markdown",
   "metadata": {},
   "source": [
    "# Symbols\n",
    "\n",
    "Testing symbols (denoted by `), NOT called STRINGS and are indivisible"
   ]
  },
  {
   "cell_type": "code",
   "execution_count": 1,
   "metadata": {},
   "outputs": [
    {
     "data": {
      "text/plain": [
       "`aapl\n"
      ]
     },
     "execution_count": 1,
     "metadata": {},
     "output_type": "execute_result"
    }
   ],
   "source": [
    "`aapl"
   ]
  },
  {
   "cell_type": "code",
   "execution_count": 2,
   "metadata": {},
   "outputs": [
    {
     "data": {
      "text/plain": [
       "`thisisareallylongsymbol\n"
      ]
     },
     "execution_count": 2,
     "metadata": {},
     "output_type": "execute_result"
    }
   ],
   "source": [
    "`thisisareallylongsymbol"
   ]
  },
  {
   "cell_type": "code",
   "execution_count": 1,
   "metadata": {},
   "outputs": [
    {
     "data": {
      "text/plain": [
       "0b\n"
      ]
     },
     "execution_count": 1,
     "metadata": {},
     "output_type": "execute_result"
    },
    {
     "data": {
      "text/plain": [
       "1b\n"
      ]
     },
     "execution_count": 1,
     "metadata": {},
     "output_type": "execute_result"
    }
   ],
   "source": [
    "`aapl=`apl\n",
    "`aapl=`aapl"
   ]
  },
  {
   "cell_type": "markdown",
   "metadata": {},
   "source": [
    " "
   ]
  },
  {
   "cell_type": "markdown",
   "metadata": {},
   "source": [
    "# Lists\n",
    "\n",
    "The notation for a general list encloses items with ( and ) and uses ; as separator. Spaces after the semi-colons are optional but can improve readability."
   ]
  },
  {
   "cell_type": "code",
   "execution_count": null,
   "metadata": {},
   "outputs": [],
   "source": [
    "(1; 1.2;`one)"
   ]
  },
  {
   "cell_type": "code",
   "execution_count": null,
   "metadata": {},
   "outputs": [],
   "source": [
    "/ In the case of a homogenous list of atoms, called a simple list, q adopts a simplified format for \n",
    "/ both storage and display. The parentheses and semicolons are dropped. \n",
    "/ For example, a list of underlying numeric type separates its items with a space.\n",
    "\n",
    "(1; 2; 3)\n",
    "(1.2; 2.2; 3.3)\n",
    "(2000.01.01; 2000.01.02; 2001.01.03)"
   ]
  },
  {
   "cell_type": "code",
   "execution_count": null,
   "metadata": {},
   "outputs": [],
   "source": [
    "/ A simple list of booleans is juxtaposed with no spaces and has a trailing b type indicator.\n",
    "\n",
    "(1b; 0b; 1b)"
   ]
  },
  {
   "cell_type": "code",
   "execution_count": null,
   "metadata": {},
   "outputs": [],
   "source": [
    "/ A simple list of symbols is displayed with no separating spaces.\n",
    "\n",
    "(`one; `two; `three)"
   ]
  },
  {
   "cell_type": "markdown",
   "metadata": {},
   "source": [
    " "
   ]
  },
  {
   "cell_type": "code",
   "execution_count": null,
   "metadata": {},
   "outputs": [],
   "source": [
    "/ 'til' function returns the first n integers starting at 0\n",
    "\n",
    "til 10\n",
    "1+til 10\n",
    "2*til 10\n",
    "42+2*til 10"
   ]
  },
  {
   "cell_type": "code",
   "execution_count": null,
   "metadata": {},
   "outputs": [],
   "source": [
    "/ Join ',' that returns the list obtained by concatenating its right operand to its left operand.\n",
    "1 2 3,4 5\n",
    "1 2 3,100\n",
    "0,1 2 3"
   ]
  },
  {
   "cell_type": "code",
   "execution_count": null,
   "metadata": {},
   "outputs": [],
   "source": [
    "/ To extract items from the front or back of a list, use the Take operator #. \n",
    "/ Positive argument means take from the front, negative from the back.\n",
    "\n",
    "2#til 10\n",
    "-2#til 10"
   ]
  },
  {
   "cell_type": "code",
   "execution_count": null,
   "metadata": {},
   "outputs": [],
   "source": [
    "/ Should you extract more items than there are in the list, # restarts at the beginning \n",
    "/ and continues extracting. It does this until the specified number of items is reached.\n",
    "\n",
    "5#1 2 3\n",
    "5#42"
   ]
  },
  {
   "cell_type": "code",
   "execution_count": null,
   "metadata": {},
   "outputs": [],
   "source": [
    "/ The items of a list can be accessed via indexing, which uses square brackets and is relative to 0.\n",
    "\n",
    "L:10 20 30\n",
    "L[0]\n",
    "L[1]\n",
    "L[2]"
   ]
  },
  {
   "cell_type": "markdown",
   "metadata": {},
   "source": [
    " "
   ]
  },
  {
   "cell_type": "markdown",
   "metadata": {},
   "source": [
    "# Functions\n",
    "\n",
    "Functions in q correspond to \"lambda expressions\" or \"anonymous functions\" in other languages. This means that a function is a first-class value just like a long or float value – i.e., it acquires a name only once it is assigned to a variable.\n",
    "\n",
    "Conceptually, a q function is a sequence of steps that produces an output result from an input value. Since q is not purely functional, these rules can interact with the world by reaching outside the context of the function.\n",
    "\n",
    "Function definition is delimited by matching curly braces { and }. Immediately after the opening brace, the formal parameters are names enclosed in square brackets [ and ] and separated by semi-colons."
   ]
  },
  {
   "cell_type": "code",
   "execution_count": null,
   "metadata": {},
   "outputs": [],
   "source": [
    "/ Following is a simple function that returns the square of its input. \n",
    "/ On the next line we assign the same function to the variable sq.\n",
    "/ WHITESPACES ARE OPTIONAL\n",
    "\n",
    "{[x]x*x}\n",
    "sq:{[x] x*x}"
   ]
  },
  {
   "cell_type": "code",
   "execution_count": null,
   "metadata": {},
   "outputs": [],
   "source": [
    "{[x;y] a:x*x; b:y*y; a+b}\n",
    "pyth:{[x;y] a:x*x; b:y*y; a+b}"
   ]
  },
  {
   "cell_type": "code",
   "execution_count": null,
   "metadata": {},
   "outputs": [],
   "source": [
    "/ To apply a function to arguments, follow it (or its name, if it has been assigned to a variable) \n",
    "/ by a list of values enclosed in square brackets and separated by semi-colons. \n",
    "\n",
    "/ ****\n",
    "/ This causes the argument expression to be evaluated first, then the expressions in the body of \n",
    "/ the function to be evaluated sequentially by substituting each resulting argument for every \n",
    "/ occurrence of the corresponding formal parameter. \n",
    "/ ****\n",
    "\n",
    "/Normally the value of the final expression is returned as the output value of the function.\n",
    "\n",
    "/The variables a and b appearing in the body of the last function above are local – \n",
    "/ i.e., they are created and exist only for the duration of an application.\n",
    "\n",
    "{[x]x*x}[5]\n",
    "sq[5]\n",
    "{[x;y]a:x*x;b:y*y;a+b}[1;2]\n",
    "pyth[1;2]"
   ]
  },
  {
   "cell_type": "code",
   "execution_count": null,
   "metadata": {},
   "outputs": [],
   "source": [
    "/ It is common in mathematics to use function parameters x, y, or z. If you are content with \n",
    "/ these names (in the belief that descriptive names provide no useful information to the poor \n",
    "/ soul reading your code), you can omit their declaration and q will understand that you mean \n",
    "/ the implicit parameters x, y, and z **in that order**.\n",
    "\n",
    "{x*x}[5]\n",
    "{a:x*x; b:y*y; a+b}[1;2]"
   ]
  },
  {
   "cell_type": "code",
   "execution_count": null,
   "metadata": {},
   "outputs": [],
   "source": [
    "/ In q, as in most functional languages, we don't need no stinkin’ brackets for application of a\n",
    "/ unary function – i.e., with one parameter. ** Simply separate the function from its argument by \n",
    "/ whitespace **. This is called function prefix syntax.\n",
    "\n",
    "{x*x} 5\n",
    "f:{x*x}\n",
    "f 5"
   ]
  },
  {
   "cell_type": "markdown",
   "metadata": {},
   "source": [
    " "
   ]
  },
  {
   "cell_type": "markdown",
   "metadata": {},
   "source": [
    "# Functions on Lists\n",
    "\n",
    "Because q is a vector language, most of the built-in operators work on lists out of the box. In q-speak, such functions are atomic, meaning they recursively burrow into a complex data structure until arriving at atoms and then perform their operation. In particular, an atomic function operates on lists by application to the individual items."
   ]
  },
  {
   "cell_type": "code",
   "execution_count": null,
   "metadata": {},
   "outputs": [],
   "source": [
    "/ For example, plain addition adds an atom to a list, a list to an atom or two lists of the same length.\n",
    "\n",
    "42+(100;200;300)\n",
    "100 200 300+42\n",
    "100 200 300+1 2 3"
   ]
  },
  {
   "cell_type": "code",
   "execution_count": null,
   "metadata": {},
   "outputs": [],
   "source": [
    "/ Perhaps surprisingly, this is also true of equality and comparison operators.\n",
    "\n",
    "100=99 100 101\n",
    "100 100 100=100 101 102\n",
    "100<99 100 101"
   ]
  },
  {
   "cell_type": "markdown",
   "metadata": {},
   "source": [
    "Suppose that instead of adding things pair-wise, we want to add all the items across a list. The way this is done in functional languages is with higher order functions, or as they are called in q, **iterators**.\n",
    "\n",
    "In the case of adding the values in a list, we need a higher-order function that takes addition and turns it into a function that works across the list. In functional programming this is called a fold ; in q it is **Over**. The technique is to accumulate the result across the list recursively. Specifically, begin with an initial value in the accumulator and then sequentially add each list item into the previous value of the accumulator until the end the list. Upon completion, the accumulator holds the desired result."
   ]
  },
  {
   "cell_type": "code",
   "execution_count": null,
   "metadata": {},
   "outputs": [],
   "source": [
    "/ Watch how easy it is to do in q. In words, we tell q to start with the initial value of 0 \n",
    "/ in the accumulator and then modify + with the iterator / so that it adds across the list.\n",
    "\n",
    "0 +/ 1 2 3 4 5\n",
    "0 +/ 1+til 100"
   ]
  },
  {
   "cell_type": "code",
   "execution_count": null,
   "metadata": {},
   "outputs": [],
   "source": [
    "/There is nothing special about built-in operator +, we can use any operator or even our own function.\n",
    "\n",
    "0 {x+y}/ 1 2 3 4 5\n",
    "0 {x+y}/ 1+til 100"
   ]
  },
  {
   "cell_type": "code",
   "execution_count": null,
   "metadata": {},
   "outputs": [],
   "source": [
    "/ In this situation we don't really need the flexibility to specify the initial value of the accumulator. \n",
    "/ It suffices to start with the first item of the list and proceed across the rest of the list. There is \n",
    "/ an even simpler form for this case.\n",
    "\n",
    "(+/) 1 2 3 4 5\n",
    "(+/) 1+til 100\n",
    "(*/) 1+til 10"
   ]
  },
  {
   "cell_type": "markdown",
   "metadata": {},
   "source": [
    "We introduce **|**, which returns the larger of its operands and **&**, which returns the smaller of its operands."
   ]
  },
  {
   "cell_type": "code",
   "execution_count": null,
   "metadata": {
    "scrolled": true
   },
   "outputs": [],
   "source": [
    "42|98\n",
    "42&98\n",
    "(|/) 20 10 40 30\n",
    "(&/) 20 10 40 30"
   ]
  },
  {
   "cell_type": "code",
   "execution_count": null,
   "metadata": {},
   "outputs": [],
   "source": [
    "/ Some applications of / are so common that they have their own names.\n",
    "\n",
    "sum 1+til 10 / this is +/\n",
    "\n",
    "prd 1+til 10 / this is */ -- note missing \"o\"\n",
    "\n",
    "max 20 10 40 30 / this is |/\n",
    "\n",
    "min 20 10 40 30 / this is &/"
   ]
  },
  {
   "cell_type": "markdown",
   "metadata": {},
   "source": [
    "We record one more example of **/** for later reference. Recall from the previous section that applying the operator **#** to an atom produces a list of copies. Composing this with ***/** we get a multiplicative implementation of raising to a power without resorting to floating-point exponential."
   ]
  },
  {
   "cell_type": "code",
   "execution_count": null,
   "metadata": {},
   "outputs": [],
   "source": [
    "(*/) 2#1.4142135623730949\n",
    "n:5\n",
    "(*/) n#10"
   ]
  },
  {
   "cell_type": "markdown",
   "metadata": {},
   "source": [
    "The higher-order function sibling to Over is **Scan**, written **\\**. The process of Scan is the same as that of Over with one difference: instead of returning only the final result of the accumulation, it returns all intermediate values."
   ]
  },
  {
   "cell_type": "code",
   "execution_count": null,
   "metadata": {},
   "outputs": [],
   "source": [
    "(+/) 1+til 10\n",
    "(*/) 1+til 10\n",
    "(|/) 20 10 40 30\n",
    "(&/) 20 10 40 30\n",
    "\n",
    "/ vs \n",
    "\n",
    "(+\\) 1+til 10\n",
    "(*\\) 1+til 10\n",
    "(|\\) 20 10 40 30\n",
    "(&\\) 20 10 40 30"
   ]
  },
  {
   "cell_type": "code",
   "execution_count": null,
   "metadata": {},
   "outputs": [],
   "source": [
    "/ As with Over, common applications of Scan have their own names.\n",
    "\n",
    "\n",
    "sums 1+til 10 / this is +\\\n",
    "prds 1+til 10 / this is *\\ / note missing 'o'\n",
    "maxs 20 10 40 30 / this is |\\\n",
    "mins 20 10 40 30 / this is &\\"
   ]
  },
  {
   "cell_type": "markdown",
   "metadata": {},
   "source": [
    " "
   ]
  },
  {
   "cell_type": "markdown",
   "metadata": {},
   "source": [
    "# Example: Fibonacci Numbers\n",
    "\n",
    "We define the Fibonacci numbers recursively.\n",
    "\n",
    "Base case: the initial sequence is the list 1 1\n",
    "\n",
    "Inductive step: given a list of Fibonacci numbers, the next value of the sequence appends the sum of its two last items.\n",
    "\n",
    "We have the basic ingredients to express this in q. Start with the base case F0."
   ]
  },
  {
   "cell_type": "code",
   "execution_count": null,
   "metadata": {},
   "outputs": [],
   "source": [
    "F0:1 1\n",
    "-2#F0            / result: 1 1\n",
    "sum -2#F0        / result: 2. Reason for the negative is to choose the last 2\n",
    "F0,sum -2#F0     / result: 1 1 2\n",
    "\n",
    "/ In function form: {x,sum -2#x} "
   ]
  },
  {
   "cell_type": "code",
   "execution_count": null,
   "metadata": {},
   "outputs": [],
   "source": [
    "{x,sum -2#x}[1 1]\n",
    "\n",
    "{x,sum -2#x}1 1 2\n",
    "\n",
    "/ Wouldn’t it be nice if q had a higher-order function that applies a recursive \n",
    "/ function a specified number of times, starting with the base case?\n",
    "/ Specify the base case and the number of times to iterate the recursion and it’s done.\n",
    "\n",
    "10 {x,sum -2#x}/ 1 1"
   ]
  },
  {
   "cell_type": "markdown",
   "metadata": {},
   "source": [
    " "
   ]
  },
  {
   "cell_type": "markdown",
   "metadata": {},
   "source": [
    "# Example: Newton’s Method for nth Roots\n",
    "\n",
    "We formulate this as a recursive algorithm for successive approximation.\n",
    "\n",
    "Base case: a reasonable initial value\n",
    "Inductive step: Given x_n, the n+1st approximation is: x_n – f(x_n) / f'(xn)\n",
    "\n",
    "Let’s use this procedure to compute the square root of 2. The function whose zero we need to find is f(x) = x^2 - 2. The formula for successive approximation involves the derivative of f, which is f'(x) = 2*x."
   ]
  },
  {
   "cell_type": "markdown",
   "metadata": {},
   "source": [
    "Observe in your console session that this looks promising for convergence to the correct answer.\n",
    "\n",
    "Wouldn't it be nice of q had a higher-order function to apply a function recursively, starting at the base case, until the output converges? You won't be surprised that there is another overload of our friend Over that does exactly this. Just specify the base case and q iterates until the result converges within the system comparison tolerance (as of this writing – Sep 2015 – that tolerance is 10^-14)"
   ]
  },
  {
   "cell_type": "code",
   "execution_count": null,
   "metadata": {},
   "outputs": [],
   "source": [
    "{[xn] xn-((xn*xn)-2)%2*xn}\\[1.5]"
   ]
  },
  {
   "cell_type": "code",
   "execution_count": null,
   "metadata": {},
   "outputs": [],
   "source": [
    "\\P 0 / Set the floating point display to maximum. Note upper case P"
   ]
  },
  {
   "cell_type": "code",
   "execution_count": null,
   "metadata": {},
   "outputs": [],
   "source": [
    "{[xn] xn-((xn*xn)-2)%2*xn}/[0.5]\n",
    "{[xn] xn-((xn*xn)-2)%2*xn}/[1.0]\n",
    "{[xn] xn-((xn*xn)-2)%2*xn}/[2.0]\n",
    "\n",
    "1.4142135623730951*1.4142135623730951"
   ]
  },
  {
   "cell_type": "markdown",
   "metadata": {},
   "source": [
    "Why limit ourselves to the square root of 2? Abstracting the constant 2 into a parameter c in the function f, the successive approximation function becomes,\n",
    "\n",
    "At this point we use a feature, related to currying in functional programming called **projection** in q, in which we only partially supply arguments to a function. The result is a function of the remaining, un-specified parameters. We indicate partial application by omitting the unspecified arguments. In our case, we specify the constant *c* as 2.0, leaving a unary function of the remaining variable xn."
   ]
  },
  {
   "cell_type": "code",
   "execution_count": null,
   "metadata": {},
   "outputs": [],
   "source": [
    "{[c; xn] xn-((xn*xn)-c)%2*xn}[25.0;]/[1.0]\n",
    "{[c; xn] xn-((xn*xn)-c)%2*xn}[16.0;]/[1.0]\n",
    "{[c; xn] xn-((xn*xn)-c)%2*xn}[9.0;]/[1.0]\n",
    "{[c; xn] xn-((xn*xn)-c)%2*xn}[3.0;]/[1.0]\n",
    "{[c; xn] xn-((xn*xn)-c)%2*xn}[2.0;]/[1.0]"
   ]
  },
  {
   "cell_type": "markdown",
   "metadata": {},
   "source": [
    "Intoxicated with the power of function abstraction and recursion, why restrict ourselves to square roots? We abstract once more, turning the power into a parameter **p**. The new expression for the successive approximation has a **pth** power in the numerator and an **p-1st** power in the denominator, but we already know how to calculate these."
   ]
  },
  {
   "cell_type": "code",
   "execution_count": null,
   "metadata": {},
   "outputs": [],
   "source": [
    "ithRoot:{[p; c; xn] xn-(((*/)p#xn)-c)%p*(*/)(p-1)#xn}"
   ]
  },
  {
   "cell_type": "code",
   "execution_count": null,
   "metadata": {},
   "outputs": [],
   "source": [
    "ithRoot[2; 3.0;]/[1.0]\n",
    "ithRoot[5; 7.0;]/[1.0]"
   ]
  },
  {
   "cell_type": "markdown",
   "metadata": {},
   "source": [
    " "
   ]
  },
  {
   "cell_type": "markdown",
   "metadata": {},
   "source": [
    "# Example: FIFO Allocation\n",
    "\n",
    "In the finance industry, one needs to fill a sell order from a list of matching buys in a FIFO (first in, first out) fashion. Although we state this scenario in terms of buys and sells, it applies equally to general FIFO allocation. We begin with the buys represented as a (time-ordered) list of floats, and a single float sell."
   ]
  },
  {
   "cell_type": "code",
   "execution_count": null,
   "metadata": {},
   "outputs": [],
   "source": [
    "buys:2 1 4 3 5 4f\n",
    "sell:12f"
   ]
  },
  {
   "cell_type": "code",
   "execution_count": null,
   "metadata": {},
   "outputs": [],
   "source": [
    "/ The objective is to draw successively from the buys until we have exactly filled the sell, then stop.\n",
    "/ Essentially enough buys to reach the sale (at [3] we summed 12. In our case the result we are seeking is\n",
    "\n",
    "allocation:2 1 4 3 2 0"
   ]
  },
  {
   "cell_type": "code",
   "execution_count": null,
   "metadata": {},
   "outputs": [],
   "source": [
    "/ The insight is to realize that the cumulative sum of the allocations reaches the sell amount and then \n",
    "/ levels off: this is an equivalent statement of what it means to do FIFO allocation.\n",
    "\n",
    "sums allocation\n",
    "\n",
    "/ We realize that the cumulative sum of buys is the total amount available for allocation at each step.\n",
    "\n",
    "sums buys\n",
    "\n",
    "/ To make this sequence level off at the sell amount, simply use \"&\" \n",
    "\n",
    "sell&sums buys"
   ]
  },
  {
   "cell_type": "markdown",
   "metadata": {},
   "source": [
    "Now that we have the cumulative allocation amounts, we need to unwind this to get the step-wise allocations. This entails subtracting successive items in the allocations list.\n",
    "\n",
    "Wouldn't it be nice if q had a built-in function that returned the successive differences of a numeric list? There is one: **deltas** and – no surprise – it involves an iterator (called Each Prior – more about that in Chapter 5)."
   ]
  },
  {
   "cell_type": "code",
   "execution_count": null,
   "metadata": {},
   "outputs": [],
   "source": [
    "/ Returning to our example of FIFO allocation, we apply deltas to the cumulative allocation list and we’re done. \n",
    "\n",
    "deltas sell&sums buys"
   ]
  },
  {
   "cell_type": "markdown",
   "metadata": {},
   "source": [
    "Now fasten your seatbelts as we switch on warp drive. In real-world FIFO allocation problems, we actually want to allocate buys FIFO not just to a single sell, but to a sequence of sells. You say, surely this must require a loop. Please don't call me Shirley. And no loopy code.\n",
    "\n",
    "We take **buys** as before but now we have a list **sells**, which are to be allocated FIFO from **buys**."
   ]
  },
  {
   "cell_type": "code",
   "execution_count": null,
   "metadata": {},
   "outputs": [],
   "source": [
    "buys\n",
    "sells:2 4 3 2\n",
    "\n",
    "/\n",
    "expected:\n",
    "allocations \n",
    "2 0 0 0 0 0\n",
    "0 1 3 0 0 0\n",
    "0 0 1 2 0 0\n",
    "0 0 0 1 1 0"
   ]
  },
  {
   "cell_type": "code",
   "execution_count": null,
   "metadata": {},
   "outputs": [],
   "source": [
    "/ The idea is to extend the allocation of buys across multiple sells by considering both the \n",
    "/ cumulative amounts to be allocated as well as the cumulative amounts available for allocation.\n",
    "\n",
    "\n",
    "sums[buys]\n",
    "sums[sells]"
   ]
  },
  {
   "cell_type": "code",
   "execution_count": null,
   "metadata": {},
   "outputs": [],
   "source": [
    "/ The insight is to cap the cumulative buys with each cumulative sell.\n",
    "\n",
    "\n",
    "2&sums[buys]\n",
    "6&sums[buys]\n",
    "9&sums[buys]\n",
    "11&sums[buys]"
   ]
  },
  {
   "cell_type": "markdown",
   "metadata": {},
   "source": [
    "Our first task is to produce the above result as a list of lists\n",
    "\n",
    "Iterators to the rescue! Our first task requires an iterator that applies a binary function and a given right operand to each item of a list on the left. That iterator is called **Each Left** and it has the funky notation **\\\\:** . We use it to accomplish in a single operation the four individual **&** operations above."
   ]
  },
  {
   "cell_type": "code",
   "execution_count": null,
   "metadata": {},
   "outputs": [],
   "source": [
    "/ For each element in sells we run the comparison\n",
    "\n",
    "sums[sells] &\\: sums[buys]"
   ]
  },
  {
   "cell_type": "code",
   "execution_count": null,
   "metadata": {},
   "outputs": [],
   "source": [
    "/ Now we apply deltas to unwind the allocation in the vertical direction.\n",
    "\n",
    "\n",
    "deltas sums[sells]&\\:sums[buys]"
   ]
  },
  {
   "cell_type": "markdown",
   "metadata": {},
   "source": [
    "For the final step, we need to unwind the allocation across the rows.\n",
    "\n",
    "The iterator we need is called **each**. As a higher-order function, it applies a given function to each item of a list (hence its name). For a simple example, the following nested list has count 2, since it has two items. Using count each gives the **count of each** item in the list."
   ]
  },
  {
   "cell_type": "code",
   "execution_count": null,
   "metadata": {},
   "outputs": [],
   "source": [
    "/ Examples\n",
    "\n",
    "(1 2 3; 10 20)\n",
    "count (1 2 3; 10 20)\n",
    "count each (1 2 3; 10 20)"
   ]
  },
  {
   "cell_type": "code",
   "execution_count": null,
   "metadata": {},
   "outputs": [],
   "source": [
    "/ In the context of our allocation problem, we realize that \"deltas each\" is just the ticket \n",
    "/ to unwind the remaining cumulative allocation within each row.\n",
    "\n",
    "\n",
    "deltas each deltas sums[sells] &\\: sums[buys]\n",
    "\n",
    "/Voilà! The solution to our allocation problem in a single line of q. The power of \n",
    "/ higher-order functions (iterators) is breathtaking."
   ]
  },
  {
   "cell_type": "markdown",
   "metadata": {},
   "source": [
    " "
   ]
  },
  {
   "cell_type": "markdown",
   "metadata": {},
   "source": [
    "# Dictionaries and Tables 101\n",
    "\n",
    "After lists, the second basic data structure of q is the dictionary, which models key-value association. A dictionary is constructed from two lists of the same length using the **!** operator. The left operand is the list of (presumably unique, though unenforced) keys and the right operand is the list of values. A dictionary is a first-class value, just like an integer or list and can be assigned to a variable."
   ]
  },
  {
   "cell_type": "code",
   "execution_count": null,
   "metadata": {},
   "outputs": [],
   "source": [
    "`a`b`c!10 20 30\n",
    "d:`a`b`c!10 20 30"
   ]
  },
  {
   "cell_type": "code",
   "execution_count": null,
   "metadata": {},
   "outputs": [],
   "source": [
    "/ Given a key, we retrieve the associated value with the same square-bracket notation as list indexing.\n",
    "\n",
    "d[`a]"
   ]
  },
  {
   "cell_type": "code",
   "execution_count": null,
   "metadata": {},
   "outputs": [],
   "source": [
    "/ A useful class of dictionary has as keys a simple list of symbols and as values a list of lists of \n",
    "/ uniform length. We think of such a dictionary as a named collection of columns and call it a \n",
    "/ column dictionary.\n",
    "\n",
    "\n",
    "`c1`c2!(10 20 30; 1.1 2.2 3.3)\n",
    "dc:`c1`c2!(10 20 30; 1.1 2.2 3.3)"
   ]
  },
  {
   "cell_type": "code",
   "execution_count": null,
   "metadata": {},
   "outputs": [],
   "source": [
    "/ Retrieving by key yields the associated column, which is itself a list and so can be indexed.\n",
    "\n",
    "dc[`c1]\n",
    "dc[`c1][0]\n",
    "dc[`c2][1]"
   ]
  },
  {
   "cell_type": "code",
   "execution_count": null,
   "metadata": {},
   "outputs": [],
   "source": [
    "/ Whenever such iterated indexing of nested entities arises in q, there is an equivalent syntactic form, \n",
    "/ called indexing at depth, to make things a bit more readable.\n",
    "\n",
    "dc[`c1]\n",
    "dc[`c1][0]\n",
    "dc[`c1; 0]\n",
    "dc[`c1; 1]\n",
    "dc[`c1; 2]"
   ]
  },
  {
   "cell_type": "code",
   "execution_count": null,
   "metadata": {},
   "outputs": [],
   "source": [
    "/ Indexing-at-depth notation suggests thinking of dc as a two-dimensional entity; this is reasonable \n",
    "/ in view of its display above. Let’s pursue this. Whenever an index is elided in q, the result is as\n",
    "/ if every legitimate value had been specified in the omitted index position. For a column dictionary, \n",
    "/ this yields the associated column when the second slot is omitted.\n",
    "\n",
    "/ Things are more interesting when the index in the first slot is elided. The result is a dictionary \n",
    "/ comprising a section of the original columns in just the specified position.\n",
    "\n",
    "dc[`c1;]\n",
    "dc[;0]"
   ]
  },
  {
   "cell_type": "markdown",
   "metadata": {},
   "source": [
    "To summarize, we have an entity that retrieves columns in the first slot and section dictionaries in the second slot. The issue is that columns are conventionally accessed in the second slot of two-dimensional things. No problem. We apply the built-in operator **flip (better called “transpose”)** to reverse the order of indexing. We still have the same column dictionary but slot retrieval is reversed: columns are accessed in the second slot and section dictionaries are retrieved from the first slot."
   ]
  },
  {
   "cell_type": "code",
   "execution_count": null,
   "metadata": {},
   "outputs": [],
   "source": [
    "`c1`c2!(10 20 30; 1.1 2.2 3.3)\n",
    "t:flip `c1`c2!(10 20 30; 1.1 2.2 3.3)\n",
    "t\n",
    "t[0; `c1]\n",
    "t[1; `c1]\n",
    "t[2; `c1]\n",
    "t[0; `c2]\n",
    "t[; `c1]\n",
    "t[0;]"
   ]
  },
  {
   "cell_type": "code",
   "execution_count": null,
   "metadata": {},
   "outputs": [],
   "source": [
    "/ We emphasize that the data is still stored as a column dictionary under the covers; only the \n",
    "/ indexing slots are affected.\n",
    "\n",
    "/ Observe that the console display of a flipped column dictionary is indeed the transpose of \n",
    "/ the column dictionary display and in fact looks like … a table.\n",
    "\n",
    "flip `c1`c2!(10 20 30; 1.1 2.2 3.3)"
   ]
  },
  {
   "cell_type": "code",
   "execution_count": null,
   "metadata": {},
   "outputs": [],
   "source": [
    "/ A flipped column dictionary, called a table, is a first-class entity in q.\n",
    "\n",
    "/ In the table setting, the section dictionaries are called records of the table. \n",
    "/ They correspond to the rows of SQL tables. To see why, observe that the record at index 0 \n",
    "/ is effectively the horizontal slice of the table in “row” 0. Let’s re-examine record retrieval, \n",
    "/ this time omitting the optional trailing semicolon from the elided second index.\n",
    "\n",
    "t[0]\n",
    "t[1]\n",
    "t[2]"
   ]
  },
  {
   "cell_type": "markdown",
   "metadata": {},
   "source": [
    "Looking at this syntactically, we might conclude that **$t$** is a list of record dictionaries. In fact it is, at least logically; physically a table is always stored as a collection of named columns.\n",
    "\n",
    "Thus we have arrived at:\n",
    "\n",
    "- A table is a flipped column dictionary.\n",
    "- It is also a list of record dictionaries.\n",
    "\n",
    "**While we can always construct a table as a flipped column dictionary, there is a convenient syntax that puts the names together with the columns**. The notation looks a bit odd at first but it will seem more reasonable when we encounter keyed tables later."
   ]
  },
  {
   "cell_type": "code",
   "execution_count": null,
   "metadata": {},
   "outputs": [],
   "source": [
    "([] c1:10 20 30; c2:1.1 2.2 3.3)"
   ]
  },
  {
   "cell_type": "markdown",
   "metadata": {},
   "source": [
    "A few notes.\n",
    "\n",
    "- The square brackets are necessary to differentiate a table from a list\n",
    "- The occurrence of : is not assignment. It is merely a syntactic marker separating the name from the column values\n",
    "- The column names in table definition are not symbols, although they are converted to symbols under the covers."
   ]
  },
  {
   "cell_type": "markdown",
   "metadata": {},
   "source": [
    " "
   ]
  },
  {
   "cell_type": "markdown",
   "metadata": {},
   "source": [
    "# q-sql 101\n",
    "\n",
    "There are multiple ways to operate on tables. First, you can treat a table as the column dictionary that it is and perform basic dictionary operations on it. Qbies who are familiar with SQL may find it easier to use q’s version of SQL-like syntax, called q-sql. In this section we explore basic q-sql features.\n",
    "\n",
    "The fundamental q-sql operation is the `select` template, We say ‘template’ because, unlike other q primitives, it is **not** evaluated right-to-left. Rather, it is syntactic sugar designed to mimic SQL `SELECT`. That said, we emphasize that although `select` does act like SQL `SELECT` in some respects, there is one fundamental difference. Whereas SQL `SELECT` operates on fields on a row-by-row basis, `select` performs vector operations on column lists. Insisting on thinking in rows with q tables will end in tears."
   ]
  },
  {
   "cell_type": "code",
   "execution_count": null,
   "metadata": {},
   "outputs": [],
   "source": [
    "/ We construct a simple table for our examples.\n",
    "\n",
    "\n",
    "t:([] c1:1000+til 6; c2:`a`b`c`a`b`a; c3:10*1+til 6)\n",
    "t"
   ]
  },
  {
   "cell_type": "code",
   "execution_count": null,
   "metadata": {},
   "outputs": [],
   "source": [
    "/ The simplest form of select retrieves all the records and columns of the table by leaving \n",
    "/ unspecified which rows or columns – there is no need for the wildcard * of SQL. The select \n",
    "/ and from must occur together\n",
    "\n",
    "select from t"
   ]
  },
  {
   "cell_type": "code",
   "execution_count": null,
   "metadata": {},
   "outputs": [],
   "source": [
    "/ The next example shows how to specify which columns to return and optional names to associate with them.\n",
    "\n",
    "\n",
    "select c1, val:2*c3 from t"
   ]
  },
  {
   "cell_type": "markdown",
   "metadata": {},
   "source": [
    "We make several observations\n",
    "\n",
    "- Result columns are separated by `,` and are sequenced left-to-right.\n",
    "- Any q expressions inside `select` are evaluated right-to-left, as usual.\n",
    "- As was the case with table definition syntax, instances of `:` are not assignment; rather, they are syntactic markers separating a column name to its left from the q expression to its right, which computes the column.\n",
    "- Arbitrary q expressions can be used to produce result columns, provided all column lengths are the same.\n",
    "- There are optional `by` and `where` phrases for grouping and constraints.\n",
    "\n",
    "The next example demonstrates using the by phrase of `select` to perform grouping. The basic usage is similar to `GROUP BY` in SQL, in which the column expressions involve aggregate functions. All records having common values in the `by` column(s) are grouped together and then aggregation is performed within each group."
   ]
  },
  {
   "cell_type": "code",
   "execution_count": null,
   "metadata": {},
   "outputs": [],
   "source": [
    "select count c1, sum c3 by c2 from t"
   ]
  },
  {
   "cell_type": "code",
   "execution_count": null,
   "metadata": {},
   "outputs": [],
   "source": [
    "/ An advantage of q-sql by is that you can group on a computed column.\n",
    "\n",
    "select from t\n",
    "select count c2 by ovrund:c3<=40 from t"
   ]
  },
  {
   "cell_type": "markdown",
   "metadata": {},
   "source": [
    "Closely related to `select` is the `update` template. It has the same syntax as `select` but semantically the names to the left of `:` are interpreted as columns to modify (or add, if not present). As with `select`, you can specify an optional `where` phrase, which limits the action to just those records satisfying specified constraint(s). Here is how to scale the `c3` column of t just in the positions having `c2` equal to `a."
   ]
  },
  {
   "cell_type": "code",
   "execution_count": null,
   "metadata": {},
   "outputs": [],
   "source": [
    "update c3:10*c3 from t where c2=`a"
   ]
  },
  {
   "cell_type": "markdown",
   "metadata": {},
   "source": [
    "We emphasize that the operations in `update` are vector operations on columns, not row-by-row.\n",
    "\n",
    "Not all of q-sql is included in the templates. For example, to sort a table ascending by column(s), use **`xasc`** with left operand the symbol column name(s) in major-to-minor order."
   ]
  },
  {
   "cell_type": "code",
   "execution_count": null,
   "metadata": {},
   "outputs": [],
   "source": [
    "`c2 xasc t"
   ]
  },
  {
   "cell_type": "markdown",
   "metadata": {},
   "source": [
    " "
   ]
  },
  {
   "cell_type": "markdown",
   "metadata": {},
   "source": [
    "# Example: Trades Table\n",
    "\n",
    "In this section we construct a toy trades table to demonstrate the power of q-sql.\n",
    "\n",
    "A useful operator for constructing lists of test data is `?`, which generates pseudo-random data. We can generate 10 numbers randomly selected, with replacement, from the first 20 integers starting at 0 (i.e., not including 20)."
   ]
  },
  {
   "cell_type": "code",
   "execution_count": null,
   "metadata": {},
   "outputs": [],
   "source": [
    "10?20\n",
    "15?20\n",
    "20?20"
   ]
  },
  {
   "cell_type": "code",
   "execution_count": null,
   "metadata": {},
   "outputs": [],
   "source": [
    "/ We can similarly generate 10 random floats between 0.0 and 100.0 (not including 100.0).\n",
    "\n",
    "10?100.0\n",
    "\n",
    "/ We can make 10 random selections from the items in a list\n",
    "\n",
    "10?`aapl`ibm"
   ]
  },
  {
   "cell_type": "code",
   "execution_count": 1,
   "metadata": {},
   "outputs": [],
   "source": [
    "/ Now to our trades table. Since a table is a collection of columns, we first build the columns. \n",
    "/ We apologize for using excessively short names so that things fit easily on the printed page.\n",
    "\n",
    "\n",
    "/ First we construct a list of 1,000,000 random dates in the month of January 2015.\n",
    "\n",
    "dts:2015.01.01+1000000?31\n",
    "\n",
    "/ Next a list of 1,000,000 timespans.\n",
    "\n",
    "tms:1000000?24:00:00.000000000\n",
    "\n",
    "/ Next a list of 1,000,000 tickers chosen from AAPL, GOOG and IBM. It is customary to make these \n",
    "/ lower-case symbols.\n",
    "\n",
    "syms:1000000?`aapl`goog`ibm\n",
    "\n",
    "/ Next a list of 1,000,000 volumes given as positive lots of 10.\n",
    "\n",
    "vols:10*1+1000000?1000\n",
    "\n",
    "/ As an initial cut, we construct a list of 1,000,000 prices in cents uniformly distributed within \n",
    "/ 10% of 100.0. We will adjust this later.\n",
    "\n",
    "pxs:90.0+(1000000?2001)%100"
   ]
  },
  {
   "cell_type": "markdown",
   "metadata": {},
   "source": [
    "Now collect these into a table and inspect the first 5 records. Remember, a table is a list of records so `#` applies."
   ]
  },
  {
   "cell_type": "code",
   "execution_count": 2,
   "metadata": {},
   "outputs": [
    {
     "data": {
      "text/plain": [
       "dt         tm                   sym  vol  px   \n",
       "-----------------------------------------------\n",
       "2015.01.13 0D21:24:06.401589363 aapl 1800 90.65\n",
       "2015.01.09 0D20:24:27.043856531 goog 4030 98.34\n",
       "2015.01.11 0D15:51:26.043912917 ibm  8700 93.79\n",
       "2015.01.02 0D02:29:23.862182199 goog 1720 98.32\n",
       "2015.01.27 0D16:52:53.141495883 aapl 7450 97.67\n"
      ]
     },
     "execution_count": 2,
     "metadata": {},
     "output_type": "execute_result"
    },
    {
     "data": {
      "text/plain": [
       "dt         tm                   sym  vol  px   \n",
       "-----------------------------------------------\n",
       "2015.01.13 0D21:24:06.401589363 aapl 1800 90.65\n",
       "2015.01.09 0D20:24:27.043856531 goog 4030 98.34\n",
       "2015.01.11 0D15:51:26.043912917 ibm  8700 93.79\n",
       "2015.01.02 0D02:29:23.862182199 goog 1720 98.32\n",
       "2015.01.27 0D16:52:53.141495883 aapl 7450 97.67\n"
      ]
     },
     "execution_count": 2,
     "metadata": {},
     "output_type": "execute_result"
    }
   ],
   "source": [
    "trades:([] dt:dts; tm:tms; sym:syms; vol:vols; px:pxs)\n",
    "5#trades\n",
    "select[5] from trades / mentioned here just for fun "
   ]
  },
  {
   "cell_type": "code",
   "execution_count": null,
   "metadata": {},
   "outputs": [],
   "source": [
    "/ The first thing you observe in your console display is that the trades are not in temporal \n",
    "/ order. We fix this by sorting on time within date using \"xasc\".\n",
    "\n",
    "trades:`dt`tm xasc trades\n",
    "5#trades\n",
    "`dt`tm xasc select[5] from trades / mentioned here just for fun "
   ]
  },
  {
   "cell_type": "code",
   "execution_count": null,
   "metadata": {},
   "outputs": [],
   "source": [
    "/ Now we adjust the prices. At the time of this writing (Sep 2015) AAPL was trading around 100, \n",
    "/ so we leave it alone. But we adjust GOOG and IBM to their approximate trading ranges by scaling.\n",
    "\n",
    "\n",
    "trades:update px:6*px from trades where sym=`goog\n",
    "trades:update px:2*px from trades where sym=`ibm\n",
    "5#trades"
   ]
  },
  {
   "cell_type": "code",
   "execution_count": null,
   "metadata": {},
   "outputs": [],
   "source": [
    "/ This looks a bit more like real trades. Let’s perform some basic queries as sanity checks. \n",
    "/ Given that both price and volume are uniformly distributed, we expect their averages to \n",
    "/ approximate the mean. Using the built-in average function avg we see that they do.\n",
    "\n",
    "select avg px, avg vol by sym from trades"
   ]
  },
  {
   "cell_type": "code",
   "execution_count": null,
   "metadata": {},
   "outputs": [],
   "source": [
    "/ Similarly, we expect the minimum and maximum price for each symbol to be the endpoints of \n",
    "/ the uniform range.\n",
    "\n",
    "\n",
    "select min px, max px by sym from trades"
   ]
  },
  {
   "cell_type": "markdown",
   "metadata": {},
   "source": [
    "Our first non-trivial query computes the 100-millisecond bucketed volume-weighted average price (VWAP). This uses the built-in binary function `xbar`. The left operand of `xbar` is an interval width, and the right operand is a list of numeric values. The effect of `xbar` is to shove each input to the left-hand end point of the interval of specified width in which it falls. For example,"
   ]
  },
  {
   "cell_type": "code",
   "execution_count": null,
   "metadata": {},
   "outputs": [],
   "source": [
    "5 xbar til 15\n",
    "2 xbar til 20\n",
    "3 xbar til 12"
   ]
  },
  {
   "cell_type": "markdown",
   "metadata": {},
   "source": [
    "This is useful for grouping since it effectively buckets all the values within each interval to the left end-point of that interval. Recalling that a timespan is actually an integral count of nanoseconds since midnight, to compute 100-millisecond buckets we will use `xbar` with an interval of 100,000,000.\n",
    "\n",
    "We also require `wavg`, a binary function that computes the average of the numeric values in its right operand weighted by the values of its left operand."
   ]
  },
  {
   "cell_type": "code",
   "execution_count": null,
   "metadata": {},
   "outputs": [],
   "source": [
    "1 2 3 wavg 50 60 70 / (50+120+210)%(1+2+3)"
   ]
  },
  {
   "cell_type": "markdown",
   "metadata": {},
   "source": [
    "#### Now we put things together in a single query. For convenience of display, we group by bucketed time within symbol."
   ]
  },
  {
   "cell_type": "code",
   "execution_count": 3,
   "metadata": {},
   "outputs": [
    {
     "data": {
      "text/plain": [
       "dt         tm                   sym  vol  px    \n",
       "------------------------------------------------\n",
       "2015.01.13 0D21:24:06.401589363 aapl 1800 90.65 \n",
       "2015.01.09 0D20:24:27.043856531 goog 4030 98.34 \n",
       "2015.01.11 0D15:51:26.043912917 ibm  8700 93.79 \n",
       "2015.01.02 0D02:29:23.862182199 goog 1720 98.32 \n",
       "2015.01.27 0D16:52:53.141495883 aapl 7450 97.67 \n",
       "2015.01.10 0D11:26:00.006679594 aapl 5800 105.12\n",
       "2015.01.27 0D15:59:55.628334581 ibm  6970 99.01 \n",
       "2015.01.12 0D04:48:30.542578250 ibm  4720 99.09 \n",
       "2015.01.27 0D00:54:05.930010080 ibm  3810 107.42\n",
       "2015.01.06 0D22:22:54.835860729 aapl 9790 94.46 \n",
       "2015.01.21 0D06:05:18.136033415 ibm  8020 99.67 \n",
       "2015.01.30 0D17:23:33.432821631 ibm  9990 102.24\n",
       "2015.01.23 0D01:08:32.679704278 aapl 1090 102.08\n",
       "2015.01.07 0D20:14:36.294415444 aapl 1900 105.71\n",
       "2015.01.02 0D11:12:08.483469039 goog 7860 91.97 \n",
       "2015.01.25 0D19:07:55.887025147 goog 9220 91.03 \n",
       "2015.01.06 0D15:40:28.986120969 goog 7670 97.01 \n",
       "2015.01.27 0D03:37:16.393985152 goog 3610 97.04 \n",
       "2015.01.05 0D05:03:26.097768992 aapl 2020 104.62\n",
       "2015.01.14 0D18:31:43.228944540 goog 5960 100.8 \n",
       "..\n"
      ]
     },
     "execution_count": 3,
     "metadata": {},
     "output_type": "execute_result"
    }
   ],
   "source": [
    "trades"
   ]
  },
  {
   "cell_type": "code",
   "execution_count": 4,
   "metadata": {},
   "outputs": [
    {
     "data": {
      "text/plain": [
       "sym  bkt                 | vwap    \n",
       "-------------------------| --------\n",
       "aapl 0D00:00:00.000000000| 96.5177 \n",
       "aapl 0D00:00:00.100000000| 105.3592\n",
       "aapl 0D00:00:01.100000000| 101.9354\n",
       "aapl 0D00:00:01.200000000| 109.91  \n",
       "aapl 0D00:00:01.600000000| 94.77   \n",
       "aapl 0D00:00:01.900000000| 109.08  \n",
       "aapl 0D00:00:03.300000000| 91.99   \n",
       "aapl 0D00:00:03.800000000| 106.6311\n",
       "aapl 0D00:00:04.400000000| 97.24986\n",
       "aapl 0D00:00:04.600000000| 108.9   \n",
       "aapl 0D00:00:04.900000000| 107.62  \n",
       "aapl 0D00:00:05.000000000| 96.44   \n",
       "aapl 0D00:00:05.600000000| 93.58   \n",
       "aapl 0D00:00:05.900000000| 94.65   \n",
       "aapl 0D00:00:06.000000000| 105.79  \n",
       "aapl 0D00:00:06.300000000| 101.82  \n",
       "aapl 0D00:00:06.900000000| 105.33  \n",
       "aapl 0D00:00:07.100000000| 108.64  \n",
       "aapl 0D00:00:07.300000000| 90.09   \n",
       "aapl 0D00:00:07.500000000| 101.05  \n",
       "..\n"
      ]
     },
     "execution_count": 4,
     "metadata": {},
     "output_type": "execute_result"
    }
   ],
   "source": [
    "select vwap:vol wavg px by sym,bkt:100000000 xbar tm from trades"
   ]
  },
  {
   "cell_type": "markdown",
   "metadata": {},
   "source": [
    "### That’s all there is to it!\n",
    "\n",
    "Our final query involves the maximum profit (or analogously, maximum drawdown) realizable over the trading period. To understand the concept, imagine that you have a DeLorean with flux capacitor and are able to travel into the future and record historical trade results. Upon returning to the present, you are given $1,000,000 to invest with the stipulation that you can make one buy and one sell for AAPL and you are not allowed to short the stock. As a good capitalist your goal is to maximize your profit.\n",
    "\n",
    "Restating the problem, we wish to determine the optimum time to buy and sell for the largest (positive) difference in price, where the buy precedes the sell. We state the solution as a q koan, which you should contemplate until enlightenment."
   ]
  },
  {
   "cell_type": "code",
   "execution_count": null,
   "metadata": {},
   "outputs": [],
   "source": [
    "select max px-mins px from trades where sym=`aapl"
   ]
  },
  {
   "cell_type": "markdown",
   "metadata": {},
   "source": [
    "Two hints if Zen enlightenment is slow to dawn.\n",
    "\n",
    "- Take the perspective of looking back from a potential optimum sell\n",
    "- The optimum buy must happen at a cumulative local minimum; otherwise, you could back up to an earlier, lower price and make a larger profit.\n"
   ]
  },
  {
   "cell_type": "markdown",
   "metadata": {},
   "source": [
    " "
   ]
  },
  {
   "cell_type": "markdown",
   "metadata": {},
   "source": [
    "# File I/O 101 (input / output)\n",
    "\n",
    "For this section we need to introduce the other q primitive text data type, called `char`. A single ASCII character is represented as that character in double quotes. Here are some examples."
   ]
  },
  {
   "cell_type": "code",
   "execution_count": null,
   "metadata": {},
   "outputs": [],
   "source": [
    "\"a\"\n",
    "\" \"\n",
    "\"_\""
   ]
  },
  {
   "cell_type": "markdown",
   "metadata": {},
   "source": [
    "The char `\"a\"` is an atom but is not the same as its symbol cousin **`a**."
   ]
  },
  {
   "cell_type": "code",
   "execution_count": null,
   "metadata": {},
   "outputs": [],
   "source": [
    "/ Things get sticky with a simple list of char. Enter such a list in general form \n",
    "/ and observe the simplified display echoed on the console.\n",
    "\n",
    "\n",
    "(\"s\";\"t\"; \"r\"; \"i\"; \"n\"; \"g\")"
   ]
  },
  {
   "cell_type": "markdown",
   "metadata": {},
   "source": [
    "A simple list of char looks like a string from traditional languages and is even called a string in q. But this string is **not** an atom or even a first class entity in q; it is a list having count 6. And it should **not** be confused with its symbol cousin **`string** , which is an atom having count 1."
   ]
  },
  {
   "cell_type": "code",
   "execution_count": null,
   "metadata": {},
   "outputs": [],
   "source": [
    "count \"string\"\n",
    "count `string"
   ]
  },
  {
   "cell_type": "markdown",
   "metadata": {},
   "source": [
    "With these preliminaries out of the way, we proceed to I/O. The way q handles I/O is Spartan. No instantiation of readers, writers, serializers and the like. We admit that the notation is funky, but you will grow to appreciate its conciseness just as a serious driver prefers a manual transmission.\n",
    "\n",
    "File I/O begins with symbolic handles. A symbolic file handle is a symbol of a particular form that represents the name of a resource on the file system. The leading : distinguishes the symbol as a handle. For example,"
   ]
  },
  {
   "cell_type": "code",
   "execution_count": 1,
   "metadata": {},
   "outputs": [
    {
     "data": {
      "text/plain": [
       "`:path/filename\n"
      ]
     },
     "execution_count": 1,
     "metadata": {},
     "output_type": "execute_result"
    }
   ],
   "source": [
    "`:path/filename"
   ]
  },
  {
   "cell_type": "code",
   "execution_count": 2,
   "metadata": {},
   "outputs": [],
   "source": [
    "/ We use the following simple table in our demonstration.\n",
    "\n",
    "\n",
    "t:([] c1:`a`b`c; c2:1.1 2.2 3.3)"
   ]
  },
  {
   "cell_type": "markdown",
   "metadata": {},
   "source": [
    "Pick a destination to write your files. This being a tutorial, the examples here will use\n",
    "\n",
    "/Users/loaner/Documents/q\n",
    "\n",
    "use /cd to find current directory\n",
    "\n",
    "To save the table t in a serialized binary data file, use the built-in function set with symbolic file handle as left operand and the source data as the right operand."
   ]
  },
  {
   "cell_type": "code",
   "execution_count": 3,
   "metadata": {},
   "outputs": [
    {
     "data": {
      "text/plain": [
       "`:/Users/loaner/Documents/q/t\n"
      ]
     },
     "execution_count": 3,
     "metadata": {},
     "output_type": "execute_result"
    }
   ],
   "source": [
    "`:/Users/loaner/Documents/q/t set t"
   ]
  },
  {
   "cell_type": "markdown",
   "metadata": {},
   "source": [
    "Observe that the console echoes the symbolic file handle in case of success. \n",
    "\n",
    "To read the stored data and deserialize it back into the session, use `get` with the symbolic file handle."
   ]
  },
  {
   "cell_type": "code",
   "execution_count": 4,
   "metadata": {},
   "outputs": [
    {
     "data": {
      "text/plain": [
       "c1 c2 \n",
       "------\n",
       "a  1.1\n",
       "b  2.2\n",
       "c  3.3\n"
      ]
     },
     "execution_count": 4,
     "metadata": {},
     "output_type": "execute_result"
    }
   ],
   "source": [
    "get `:/Users/loaner/Documents/q/t"
   ]
  },
  {
   "cell_type": "markdown",
   "metadata": {},
   "source": [
    "To write text data to a file we use one of the overloads of the infelicitously named `0:` operator. The key idea is that q considers a text file to correspond to a list of strings, one string per file record. We supply `0:` with a symbolic file handle as its left operand and a list of strings (i.e., a list of lists of char) in the right operand."
   ]
  },
  {
   "cell_type": "code",
   "execution_count": 5,
   "metadata": {},
   "outputs": [
    {
     "data": {
      "text/plain": [
       "`:/Users/loaner/Documents/q/life.txt\n"
      ]
     },
     "execution_count": 5,
     "metadata": {},
     "output_type": "execute_result"
    },
    {
     "data": {
      "text/plain": [
       "\"Meaning\"\n",
       "\"of\"\n",
       "\"life\"\n"
      ]
     },
     "execution_count": 5,
     "metadata": {},
     "output_type": "execute_result"
    }
   ],
   "source": [
    "`:/Users/loaner/Documents/q/life.txt 0: (\"Meaning\";\"of\";\"life\")\n",
    "\n",
    "/ To read a text file as a list of strings, use read0 with the symbolic handle.\n",
    "\n",
    "read0 `:/Users/loaner/Documents/q/life.txt"
   ]
  },
  {
   "cell_type": "markdown",
   "metadata": {},
   "source": [
    "And now, what everyone is waiting for: writing and reading **CSV files**. Hold on to your hats, as this uses three different overloads of `0:`. One to prepare the tables as text; the one we already met to write text files; and one to read formatted text files. Certainly a regrettable naming convention.\n",
    "\n",
    "Preparing a table as **CSV text** is simple; q handles the quoting and escaping of special characters. Apply `0:` with the defined constant `csv` as left operand and the table in the right operand."
   ]
  },
  {
   "cell_type": "code",
   "execution_count": 6,
   "metadata": {},
   "outputs": [
    {
     "data": {
      "text/plain": [
       "c1 c2 \n",
       "------\n",
       "a  1.1\n",
       "b  2.2\n",
       "c  3.3\n"
      ]
     },
     "execution_count": 6,
     "metadata": {},
     "output_type": "execute_result"
    },
    {
     "data": {
      "text/plain": [
       "\"c1,c2\"\n",
       "\"a,1.1\"\n",
       "\"b,2.2\"\n",
       "\"c,3.3\"\n"
      ]
     },
     "execution_count": 6,
     "metadata": {},
     "output_type": "execute_result"
    }
   ],
   "source": [
    "t / for comparison\n",
    "csv 0: t"
   ]
  },
  {
   "cell_type": "code",
   "execution_count": 7,
   "metadata": {},
   "outputs": [
    {
     "data": {
      "text/plain": [
       "`:/Users/loaner/Documents/q/t.csv\n"
      ]
     },
     "execution_count": 7,
     "metadata": {},
     "output_type": "execute_result"
    },
    {
     "data": {
      "text/plain": [
       "\"c1,c2\"\n",
       "\"a,1.1\"\n",
       "\"b,2.2\"\n",
       "\"c,3.3\"\n"
      ]
     },
     "execution_count": 7,
     "metadata": {},
     "output_type": "execute_result"
    }
   ],
   "source": [
    "/ Your console display shows the table properly prepared as strings. Now compose this result with the \n",
    "/ previous overload of 0: and write it out. As a check, we use read0 to read back the text file.\n",
    "\n",
    "`:/Users/loaner/Documents/q/t.csv 0: csv 0: t\n",
    "\n",
    "read0 `:/Users/loaner/Documents/q/t.csv"
   ]
  },
  {
   "cell_type": "markdown",
   "metadata": {},
   "source": [
    "Finally, we demonstrate the third overload of `0:` to parse the formatted CSV file into the q session as a table. The right operand is a symbolic file handle. The left operand is a control list with two items. The first is a string of upper-case characters indicating the types of each field within the text row.\n",
    "\n",
    "The second item of the control list is the field separation character – in our case this is `,`. This separator char should be enlisted if there are column headers in the first row of the file, as in our case. These headers are used as table column names. For our example we have,\n",
    "\n",
    "Here `\"S\"` and `\"F\"` indicate that there are two fields, having types **symbol** and **float**. The separator is an enlisted `\",\"`."
   ]
  },
  {
   "cell_type": "code",
   "execution_count": 8,
   "metadata": {},
   "outputs": [
    {
     "data": {
      "text/plain": [
       "c1 c2 \n",
       "------\n",
       "a  1.1\n",
       "b  2.2\n",
       "c  3.3\n"
      ]
     },
     "execution_count": 8,
     "metadata": {},
     "output_type": "execute_result"
    }
   ],
   "source": [
    "(\"SF\"; enlist \",\") 0: `:/Users/loaner/Documents/q/t.csv"
   ]
  },
  {
   "cell_type": "code",
   "execution_count": 9,
   "metadata": {},
   "outputs": [
    {
     "data": {
      "text/plain": [
       "c1 c2 \n",
       "------\n",
       "a  1.1\n",
       "b  2.2\n",
       "c  3.3\n"
      ]
     },
     "execution_count": 9,
     "metadata": {},
     "output_type": "execute_result"
    }
   ],
   "source": [
    "a:(\"SF\"; enlist \",\") 0: `:/Users/loaner/Documents/q/t.csv\n",
    "a"
   ]
  },
  {
   "cell_type": "code",
   "execution_count": 10,
   "metadata": {},
   "outputs": [
    {
     "data": {
      "text/plain": [
       "10 10000\n"
      ]
     },
     "execution_count": 10,
     "metadata": {},
     "output_type": "execute_result"
    }
   ],
   "source": [
    "a:10*1+1000000?1000\n",
    "(min a;max a)"
   ]
  },
  {
   "cell_type": "markdown",
   "metadata": {},
   "source": [
    " "
   ]
  },
  {
   "cell_type": "markdown",
   "metadata": {},
   "source": [
    "# Interprocess Communication (IPC) 101\n",
    "\n",
    "For this section, you will need two open q sessions, best done on the same machine. We recommend that this machine be one that is not encumbered with enterprise security. Chose one session to be your “server” and open a port with the command `\\p` (note lower case) followed by the port number. To verify that the port is open, execute the naked command `\\p` and check that it echoes a 32-bit int of the port you opened."
   ]
  },
  {
   "cell_type": "code",
   "execution_count": null,
   "metadata": {},
   "outputs": [],
   "source": [
    "\\p 5042 / on server\n",
    "\\p"
   ]
  },
  {
   "cell_type": "markdown",
   "metadata": {},
   "source": [
    "The syntax of Interprocess Communication (IPC) is similar to that of File I/O. A symbolic network handle is a symbol of a particular form that identifies the name of a resource on the network. For our purposes, it suffices to consider a network handle of the simplest form."
   ]
  },
  {
   "cell_type": "code",
   "execution_count": null,
   "metadata": {},
   "outputs": [],
   "source": [
    "`:localhost:5042"
   ]
  },
  {
   "cell_type": "markdown",
   "metadata": {},
   "source": [
    "The leading `:` in the symbol identifies it as a symbolic handle. To the left of the second `:` is the name of the network resource – in this case, the machine on which the q session is running. To the right of `:` is a (presumably open) port on the destination machine that will be used for TCP/IP communication.\n",
    "\n",
    "To open a connection, use a symbolic handle as argument to `hopen` and store the result in a variable, traditionally called `h`. Do that now in your “client” session after ensuring that the specified port is open in the “server” session."
   ]
  },
  {
   "cell_type": "code",
   "execution_count": null,
   "metadata": {},
   "outputs": [],
   "source": [
    "h:hopen `:localhost:5042 / on client"
   ]
  },
  {
   "cell_type": "markdown",
   "metadata": {},
   "source": [
    "The variable `h` is called an open handle. It holds a function for sending a request to the server and receiving the result of that request. Now we’re ready to party.\n",
    "\n",
    "There are three ways to send requests from the client to the server, only one of which is safe for production applications. For demonstration purpose (only), we show the simplest, which should only be used in development environments. When invoked with a string – i.e., a list of chars – argument, the handle function `h` synchronously sends that string to the server, where it is executed, and any result is returned from the application of `h`."
   ]
  },
  {
   "cell_type": "code",
   "execution_count": null,
   "metadata": {},
   "outputs": [],
   "source": [
    "h \"6*7\" / on client"
   ]
  },
  {
   "cell_type": "markdown",
   "metadata": {},
   "source": [
    "Clearly this isn’t safe, as arbitrary text can be sent for nefarious purposes.\n",
    "\n",
    "A safer way to make requests to the server is to invoke `h` with a list containing the name of a function that (presumably) exists on the server, followed by arguments to that function. When `h` is invoked with such a list argument, it (synchronously) causes the server to apply the named function to the transmitted arguments, and then returns any result from the server is its own output. This corresponds to call-by-name in a traditional remote-procedure call. It is safer since the server can inspect the symbolic function name and determine whether the requesting user is authorized to execute it.\n",
    "\n",
    "On your server process, create a simple function of two arguments."
   ]
  },
  {
   "cell_type": "code",
   "execution_count": null,
   "metadata": {},
   "outputs": [],
   "source": [
    "f:{x*y} / on server\n",
    "\n",
    "/ On your client process, invoke h with a list containing the symbolic name of the remote \n",
    "/ function followed by its two arguments.\n",
    "\n",
    "\n",
    "h (`f; 6; 7) / on client"
   ]
  },
  {
   "cell_type": "markdown",
   "metadata": {},
   "source": [
    "Observe that nothing is displayed on the server console since the function application there returns its result to the client. To close the connection with the server, flush buffers and free resources, apply `hclose` to the open handle.\n"
   ]
  },
  {
   "cell_type": "code",
   "execution_count": null,
   "metadata": {},
   "outputs": [],
   "source": [
    "hclose h / on client\n",
    "\n",
    "/ IPC doesn’t get any easier."
   ]
  },
  {
   "cell_type": "markdown",
   "metadata": {},
   "source": [
    " "
   ]
  },
  {
   "cell_type": "markdown",
   "metadata": {},
   "source": [
    "# Example: Asynchronous Callbacks\n",
    "\n",
    "The IPC mechanism of q does not have callbacks built in but it is powerful enough that we can create callbacks ourselves. We assume that you have started separate client and server q sessions and have opened the connection from the client to the server, as in the previous section.\n",
    "\n",
    "Heretofore, calls to the server were synchronous, meaning that at the point of the remote call, the client blocks until the requested work on the server completes and the result is returned. It is also possible to make the remote call asynchronous. In this case, the client does *not* block: the application of the open handle returns immediately.\n",
    "\n",
    "In order to demonstrate this, we have to come clean about what is really in the open handle `h`. See for yourself by displaying the `h` from an open connection."
   ]
  },
  {
   "cell_type": "code",
   "execution_count": 1,
   "metadata": {},
   "outputs": [
    {
     "data": {
      "text/plain": [
       "5042i\n"
      ]
     },
     "execution_count": 1,
     "metadata": {},
     "output_type": "execute_result"
    },
    {
     "data": {
      "text/plain": [
       "0i\n"
      ]
     },
     "execution_count": 1,
     "metadata": {},
     "output_type": "execute_result"
    }
   ],
   "source": [
    "\\p 5042 / on server\n",
    "\\p\n",
    "h: hopen `:localhost:5042\n",
    "h"
   ]
  },
  {
   "cell_type": "markdown",
   "metadata": {},
   "source": [
    "Your result will probably not match this but it will be an integer. Yes, an open handle is just a positive 32-bit integer. When this (positive) integer is applied as a function, the call is synchronous. To make an asynchronous call, negate the value in `h` – i.e., `neg h` – and use this with function application syntax. Seriously.\n",
    "\n",
    "Since nothing will be displayed in the client session, it helps to display progress on the server as the request is performed. Create the function `echo` in the server session."
   ]
  },
  {
   "cell_type": "code",
   "execution_count": 2,
   "metadata": {},
   "outputs": [],
   "source": [
    "echo:{show x} / on server"
   ]
  },
  {
   "cell_type": "code",
   "execution_count": 3,
   "metadata": {},
   "outputs": [
    {
     "name": "stdout",
     "output_type": "stream",
     "text": [
      "42\n"
     ]
    }
   ],
   "source": [
    "(neg h) (`echo; 42) / on client"
   ]
  },
  {
   "cell_type": "markdown",
   "metadata": {},
   "source": [
    "Observe on your q consoles that the client application returns immediately with no result and that the server displays the progress message.\n",
    "\n",
    "Now to callbacks. We begin by instrumenting a function `rsvp` on the server that, when invoked remotely, will call back to the client. It will receive two parameters: its own argument and the symbolic name of the client function to call."
   ]
  },
  {
   "cell_type": "code",
   "execution_count": 4,
   "metadata": {},
   "outputs": [],
   "source": [
    "/ We initially invoke the server’s \"show\" with the passed arg to indicate that we are hard at work \n",
    "/ on the transmitted data.\n",
    "\n",
    "rsvp:{[arg;cb] show arg;}"
   ]
  },
  {
   "cell_type": "markdown",
   "metadata": {},
   "source": [
    "Now for the big moment. To make the return call from the server to the client, we need the open handle of the connection for the remote call we are processing. This is conveniently placed in the q system variable `.z.w` (“who” called) for the duration of each remote call. We use it to make an asynchronous remote call (hence the `neg`) over the caller’s handle, passing the provided callback name and our arduously computed result 43."
   ]
  },
  {
   "cell_type": "code",
   "execution_count": 5,
   "metadata": {},
   "outputs": [],
   "source": [
    "rsvp:{[arg;cb] show arg; (neg .z.w) (cb; 43);}"
   ]
  },
  {
   "cell_type": "markdown",
   "metadata": {},
   "source": [
    "In the final step, we display another progress message on the server console indicating the remote call has completed. Since this function returns its actual result remotely, we end its body with `;` to ensure that it returns nothing locally."
   ]
  },
  {
   "cell_type": "code",
   "execution_count": 6,
   "metadata": {},
   "outputs": [],
   "source": [
    "rsvp:{[arg;cb] show arg; (neg .z.w) (cb; 43); show `done;}"
   ]
  },
  {
   "cell_type": "code",
   "execution_count": 8,
   "metadata": {},
   "outputs": [],
   "source": [
    "/ We turn to the client side and create echo to serve as the function called back for this demonstration.\n",
    "\n",
    "echo:{show x} / on client"
   ]
  },
  {
   "cell_type": "code",
   "execution_count": 9,
   "metadata": {},
   "outputs": [
    {
     "name": "stdout",
     "output_type": "stream",
     "text": [
      "42\n",
      "43\n",
      "`done\n"
     ]
    }
   ],
   "source": [
    "/ It remains to fire off the remote asynchronous call from the client. We pass the client open handle a \n",
    "/ list containing: the name of the remote function; the argument for the remote function; and the name \n",
    "/ of our own function to be called back during the remote computation. Be sure to do it asynchronously \n",
    "/ else you will get deadlocks.\n",
    "\n",
    "\n",
    "(neg h) (`rsvp; 42; `echo) / on client\n",
    "\n",
    "/ And there you have it. Callbacks built from scratch in q using a few lines of code."
   ]
  },
  {
   "cell_type": "markdown",
   "metadata": {},
   "source": [
    " "
   ]
  },
  {
   "cell_type": "markdown",
   "metadata": {},
   "source": [
    "# Websockets 101\n",
    "\n",
    "In traditional web applications, the browser (as client) initiates requests and the server replies with the page or data requested using the HTTP protocol. The web server does the serious data manipulation. In recent years, browsers and JavaScript have evolved to levels of sophistication that permit quite powerful processing to be done safely on the client side – for example, input editing and display formatting. Indeed, you can use WebSockets to put a browser front end on traditional applications, replacing both the web server and proprietary GUI packages in one fell swoop (phrase used with its original meaning).\n",
    "\n",
    "The key idea of WebSockets is that the client makes an initial HTTP request to upgrade the protocol. Assuming the request is accepted, subsequent communication occurs over TCP/IP sockets protocol. In particular, once the WebSockets connection is made, either the client or server can initiate messaging.\n",
    "\n",
    "We begin with a simple example that demonstrates how to connect a browser to a q process via WebSockets, request data and then display the result. We assume familiarity with basic HTML5 and JavaScript. Enter the script below in a text editor and save it as `sample1.html` in a location accessible to your browser.\n",
    "\n",
    "***\n",
    "This script uses the `c.js` script for serialization and deserialization between q and JavaScript, which you can download from GitHub. For simplicity in this demo, we have placed a copy in the same directory as the `sample1.html` script so that it can be loaded with a (trivial) relative path. You should point this to the location of `c.js` in your q/kdb installation.\n",
    "***\n",
    "\n",
    "This script creates a minimal page with a field to display the result returned from the q server. After declaring some useful variables, we get to the interesting bits that create the WebSockets connection and handle the data from q. We create a WebSockets object and set its `binaryType` property to `\"arraybuffer\"`, which is necessary for the exchange of q serialized data.\n",
    "\n",
    "We wire the behavior of the connection object by attaching handler functions for WebSockets events. Most important are the `onopen` and `onmessage` events. When the connection is opened, we serialize a JavaScript object containing a payload string and send it (asynchronously) to the q process; it will arrive there as a serialized dictionary. Conversely, when a serialized message is received from the q process, we deserialize it and invoke the `sayN` function on the content. The `sayN` function locates the display field on the page and copies its parameter there."
   ]
  },
  {
   "cell_type": "code",
   "execution_count": 9,
   "metadata": {},
   "outputs": [
    {
     "ename": "\u001b[0;31mparse error\u001b[0m",
     "evalue": "\u001b[0;31m<\u001b[0m",
     "output_type": "error",
     "traceback": [
      "\u001b[0;31mparse error\u001b[0m",
      "\u001b[0;31m<\u001b[0m"
     ]
    }
   ],
   "source": [
    "<!doctype html>\n",
    "<html>\n",
    "<head>\n",
    "<script src=\"c.js\"></script>\n",
    "<script>\n",
    " var serverurl = \"//localhost:5042/\",\n",
    "     c = connect(),\n",
    "     ws;\n",
    "  function connect() {\n",
    "    if (\"WebSocket\" in window) {\n",
    "      ws = new WebSocket(\"ws:\" + serverurl);\n",
    "      ws.binaryType=\"arraybuffer\";\n",
    "      ws.onopen=function(e){\n",
    "        ws.send(serialize({ payload: \"What is the meaning of life?\" }));\n",
    "      };\n",
    "      ws.onclose=function(e){\n",
    "      };\n",
    "      ws.onmessage=function(e){\n",
    "        sayN(deserialize(e.data));\n",
    "      };\n",
    "      ws.onerror=function(e) {window.alert(\"WS Error\") };\n",
    "    } else alert(\"WebSockets not supported on your browser.\");\n",
    "  }\n",
    "  function sayN(n) {\n",
    "    document.getElementById('answer').textContent = n;\n",
    "  }\n",
    "</script>\n",
    "</head>\n",
    "<body>\n",
    "  <p>What is the meaning of life?</p>\n",
    "  <p id=\"answer\" style=\"font-size: 10em\"></p>\n",
    "</body>\n",
    "</html>"
   ]
  },
  {
   "cell_type": "code",
   "execution_count": null,
   "metadata": {},
   "outputs": [],
   "source": []
  },
  {
   "cell_type": "code",
   "execution_count": null,
   "metadata": {},
   "outputs": [],
   "source": []
  },
  {
   "cell_type": "code",
   "execution_count": null,
   "metadata": {},
   "outputs": [],
   "source": []
  },
  {
   "cell_type": "code",
   "execution_count": null,
   "metadata": {},
   "outputs": [],
   "source": []
  },
  {
   "cell_type": "code",
   "execution_count": null,
   "metadata": {},
   "outputs": [],
   "source": []
  },
  {
   "cell_type": "code",
   "execution_count": null,
   "metadata": {},
   "outputs": [],
   "source": []
  },
  {
   "cell_type": "code",
   "execution_count": null,
   "metadata": {},
   "outputs": [],
   "source": []
  }
 ],
 "metadata": {
  "kernelspec": {
   "display_name": "Q (kdb+)",
   "language": "q",
   "name": "qpk"
  },
  "language_info": {
   "file_extension": ".q",
   "mimetype": "text/x-q",
   "name": "q",
   "version": "3.6.0"
  }
 },
 "nbformat": 4,
 "nbformat_minor": 4
}
